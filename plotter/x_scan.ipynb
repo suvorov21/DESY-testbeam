{
 "cells": [
  {
   "cell_type": "code",
   "execution_count": 1,
   "metadata": {},
   "outputs": [
    {
     "name": "stdout",
     "output_type": "stream",
     "text": [
      "Welcome to JupyROOT 6.20/06\n",
      "Style for publication/paper\n"
     ]
    }
   ],
   "source": [
    "import ROOT\n",
    "from T2KStyle import T2KStyle"
   ]
  },
  {
   "cell_type": "code",
   "execution_count": 2,
   "metadata": {},
   "outputs": [],
   "source": [
    "%jsroot on\n",
    "c = ROOT.TCanvas('c', '', 800, 600)\n",
    "cl = ROOT.TCanvas('cl', '', 1600, 1200)\n",
    "cw = ROOT.TCanvas('c2', '', 1600, 600)\n",
    "cw3 = ROOT.TCanvas('c3', '', 2400, 600)"
   ]
  },
  {
   "cell_type": "code",
   "execution_count": 3,
   "metadata": {},
   "outputs": [],
   "source": [
    "path = '~/LXPLUS/DESY_testbeam/hs_ind_freec/'\n",
    "# path = '~/DATA/hs_para3/'\n",
    "\n",
    "it = 9\n",
    "\n",
    "file = [#ROOT.TFile(path + f's_200_430_02T_iter{it}.root'),\n",
    "        #ROOT.TFile(path + f's_200_480_02T_iter{it}.root'),\n",
    "        ROOT.TFile(path + f's_412_430_02T_iter{it}.root'),\n",
    "        #ROOT.TFile(path + f's_412_480_02T_iter{it}.root')\n",
    "       ]"
   ]
  },
  {
   "cell_type": "code",
   "execution_count": null,
   "metadata": {},
   "outputs": [],
   "source": [
    "path = '~/DATA/z_scan/'\n",
    "\n",
    "file = [ROOT.TFile(path + 'z_360_275_200_0T_all_iter9.root'),\n",
    "        ROOT.TFile(path + 'z_360_275_200_02T_all_iter9.root'),\n",
    "        ROOT.TFile(path + 'z_360_275_412_0T_all_iter9.root'),\n",
    "        ROOT.TFile(path + 'z_360_275_412_02T_all_iter9.root')\n",
    "       ]"
   ]
  },
  {
   "cell_type": "markdown",
   "metadata": {},
   "source": [
    "## Process the data"
   ]
  },
  {
   "cell_type": "code",
   "execution_count": 4,
   "metadata": {
    "scrolled": true
   },
   "outputs": [
    {
     "name": "stdout",
     "output_type": "stream",
     "text": [
      "file 0 is done 136870\n"
     ]
    }
   ],
   "source": [
    "ax = ROOT.TAxis(50, -0.035, 0.015)\n",
    "res = []\n",
    "for f_id, fi in enumerate(file[:]):\n",
    "    res.append([])\n",
    "    for col in range(36):\n",
    "        res[f_id].append([])\n",
    "        for i in range(50):\n",
    "            res[f_id][col].append(ROOT.TH1F(f'x_scan_{f_id}_{col}_{i}', '', 200, -0.002, 0.002))\n",
    "    n = 0\n",
    "    for entry in fi.outtree:\n",
    "#         print(entry.pad_y[0], entry.pad_y[33*10])\n",
    "#         if entry.pad_y[0] != 15 or entry.pad_y[33*10] != 15:\n",
    "#             continue\n",
    "        n += 1\n",
    "#         if abs(entry.track_pos[0]) > 0.0001:\n",
    "#             continue\n",
    "#         if entry.mom > 0.:\n",
    "#             continue\n",
    "        \n",
    "        for i in range(len(entry.track_pos)):\n",
    "            if entry.qfrac[i*10] < 0:\n",
    "                continue\n",
    "            # uncomment this if you want just one column. \n",
    "    #         if entry.pad_x[i*10] != 5:\n",
    "    #             continue\n",
    "            b = ax.FindBin(entry.track_pos[i]) - 1\n",
    "            if b >= 50:\n",
    "                continue\n",
    "            res[f_id][entry.pad_x[i*10]][b].Fill(entry.residual[i])\n",
    "    print(f'file {f_id} is done', n)"
   ]
  },
  {
   "cell_type": "markdown",
   "metadata": {},
   "source": [
    "## Plot many columns"
   ]
  },
  {
   "cell_type": "markdown",
   "metadata": {},
   "source": [
    "### Statistics"
   ]
  },
  {
   "cell_type": "code",
   "execution_count": 17,
   "metadata": {},
   "outputs": [
    {
     "name": "stderr",
     "output_type": "stream",
     "text": [
      "Warning in <TFile::Append>: Replacing existing TH1: h_max (Potential memory leak).\n",
      "Warning in <TFile::Append>: Replacing existing TH1: h_min (Potential memory leak).\n",
      "Info in <TCanvas::Print>: pdf file bias_all.pdf has been created\n"
     ]
    },
    {
     "data": {
      "image/png": "[encoded data removed]",
      "text/plain": [
       "<IPython.core.display.Image object>"
      ]
     },
     "metadata": {},
     "output_type": "display_data"
    }
   ],
   "source": [
    "%jsroot off\n",
    "ran = 0.003\n",
    "ROOT.gPad.SetGridx(0)\n",
    "ROOT.gPad.SetGridy(0)\n",
    "gr_max = ROOT.TGraphAsymmErrors()\n",
    "gr_rms = ROOT.TGraphAsymmErrors()\n",
    "\n",
    "gr_max_res = ROOT.TGraphAsymmErrors()\n",
    "gr_rms_res = ROOT.TGraphAsymmErrors()\n",
    "\n",
    "h_max = ROOT.TH1F('h_max', '', 50, -0.035, 0.015)\n",
    "h_min = ROOT.TH1F('h_min', '', 50, -0.035, 0.015)\n",
    "\n",
    "file_id = 0\n",
    "\n",
    "start = -0.015\n",
    "end = 0.005\n",
    "# start = -0.0045\n",
    "# end = -0.0005\n",
    "\n",
    "for col in range(36):\n",
    "    maxim = -1e6\n",
    "    minim = 1e6\n",
    "    maxim_pos = -999\n",
    "    minim_pos = -999\n",
    "    mean = 0.\n",
    "    n = 0\n",
    "    maxim_res = -1e6\n",
    "    minim_res = 1e6\n",
    "    mean_res = 0.\n",
    "    for i in range(ax.FindBin(start)-1, ax.FindBin(end)-1):\n",
    "        if res[file_id][col][i].Integral() == 0:\n",
    "            continue\n",
    "        res[file_id][col][i].Fit('gaus', 'Q', '', -1.*ran, ran)\n",
    "        f = res[file_id][col][i].GetFunction('gaus')\n",
    "        \n",
    "        bias = 1e6*f.GetParameter(1)\n",
    "        resol = 1e6*f.GetParameter(2)\n",
    "        mean += bias\n",
    "        mean_res += resol\n",
    "        n += 1\n",
    "        if bias > maxim: maxim = bias; maxim_pos = ax.GetBinCenter(i+1)\n",
    "        if bias < minim: minim = bias; minim_pos = ax.GetBinCenter(i+1)\n",
    "        if resol > maxim_res: maxim_res = resol\n",
    "        if resol < minim_res: minim_res = resol\n",
    "    if n == 0:\n",
    "        continue\n",
    "    mean /= n\n",
    "    mean_res /= n\n",
    "    rms = 0\n",
    "    rms_res = 0\n",
    "    for i in range(ax.FindBin(start)-1, ax.FindBin(end)-1):\n",
    "        f = res[file_id][col][i].GetFunction('gaus')\n",
    "        try:\n",
    "            bias = 1e6*f.GetParameter(1)\n",
    "            resol = 1e6*f.GetParameter(2)\n",
    "            rms += (bias - mean) ** 2\n",
    "            rms_res += (resol - mean_res) ** 2\n",
    "        except:\n",
    "            continue\n",
    "    rms = rms**0.5\n",
    "    rms /= n**0.5\n",
    "    rms_res = rms_res**0.5\n",
    "    rms_res /= n**0.5\n",
    "    gr_max.SetPoint(gr_max.GetN(), col, mean)\n",
    "    gr_max.SetPointEYhigh(gr_max.GetN()-1, maxim - mean)\n",
    "    gr_max.SetPointEYlow(gr_max.GetN()-1, mean - minim)\n",
    "    gr_rms.SetPoint(gr_rms.GetN(), col, mean)\n",
    "    gr_rms.SetPointEYhigh(gr_rms.GetN()-1, rms)\n",
    "    gr_rms.SetPointEYlow(gr_rms.GetN()-1, rms)\n",
    "    gr_rms.SetPointEXhigh(gr_rms.GetN()-1, 0.5)\n",
    "    gr_rms.SetPointEXlow(gr_rms.GetN()-1, 0.5)\n",
    "    \n",
    "    gr_max_res.SetPoint(gr_max_res.GetN(), col, mean_res)\n",
    "    gr_max_res.SetPointEYhigh(gr_max_res.GetN()-1, maxim_res - mean_res)\n",
    "    gr_max_res.SetPointEYlow(gr_max_res.GetN()-1, mean_res - minim_res)\n",
    "    gr_rms_res.SetPoint(gr_rms_res.GetN(), col, mean_res)\n",
    "    gr_rms_res.SetPointEYhigh(gr_rms_res.GetN()-1, rms_res)\n",
    "    gr_rms_res.SetPointEYlow(gr_rms_res.GetN()-1, rms_res)\n",
    "    gr_rms_res.SetPointEXhigh(gr_rms_res.GetN()-1, 0.5)\n",
    "    gr_rms_res.SetPointEXlow(gr_rms_res.GetN()-1, 0.5)\n",
    "    \n",
    "    h_max.Fill(maxim_pos)\n",
    "    h_min.Fill(minim_pos)\n",
    "c.cd()\n",
    "\n",
    "\n",
    "lg = ROOT.TLegend(0.6, 0.2, 0.8, 0.4)\n",
    "# gr_max.SetMarkerSize(0.001)\n",
    "gr_rms.GetXaxis().SetTitle(\"Column\")\n",
    "gr_rms.GetYaxis().SetTitle(\"[#mum]\")\n",
    "gr_rms.GetYaxis().SetRangeUser(-500, 400)\n",
    "\n",
    "gr_max.SetMarkerStyle(22)\n",
    "gr_rms.SetMarkerStyle(22)\n",
    "gr_rms.SetMarkerColor(ROOT.kBlack);\n",
    "gr_rms.SetFillColor(2);\n",
    "gr_rms.SetFillStyle(3001);\n",
    "gr_rms.Draw('a2')\n",
    "gr_max.Draw(\"same p|>\")\n",
    "lg.AddEntry(gr_rms, 'Bias')\n",
    "\n",
    "gr_max_res.SetMarkerStyle(23)\n",
    "gr_max_res.Draw(\"same p\")\n",
    "gr_rms_res.SetFillColor(3);\n",
    "gr_rms_res.SetFillStyle(3001);\n",
    "gr_rms_res.Draw('same p2')\n",
    "lg.AddEntry(gr_rms_res, 'Resolution')\n",
    "\n",
    "# ROOT.gPad.SetGrid(0)\n",
    "lg.Draw()\n",
    "c.Draw()\n",
    "c.Print('bias_all.pdf')"
   ]
  },
  {
   "cell_type": "code",
   "execution_count": null,
   "metadata": {},
   "outputs": [],
   "source": [
    "c.cd()\n",
    "hs = ROOT.THStack('hs', '')\n",
    "h_min.SetLineColor(ROOT.kRed)\n",
    "hs.Add(h_max)\n",
    "hs.Add(h_min)\n",
    "hs.Draw('histo nostack')\n",
    "c.Draw()"
   ]
  },
  {
   "cell_type": "markdown",
   "metadata": {},
   "source": [
    "### Overlap"
   ]
  },
  {
   "cell_type": "code",
   "execution_count": 15,
   "metadata": {},
   "outputs": [
    {
     "name": "stderr",
     "output_type": "stream",
     "text": [
      "Info in <TCanvas::Print>: pdf file bias.pdf has been created\n"
     ]
    },
    {
     "data": {
      "image/png": "[encoded data removed]",
      "text/plain": [
       "<IPython.core.display.Image object>"
      ]
     },
     "metadata": {},
     "output_type": "display_data"
    }
   ],
   "source": [
    "# ran = 0.003\n",
    "cw.Clear()\n",
    "cw.Divide(2)\n",
    "ROOT.gPad.SetGridx(0)\n",
    "ROOT.gPad.SetGridy(0)\n",
    "file_id = 0\n",
    "resol_gr = []\n",
    "bias_gr = []\n",
    "columns = [5, 10, 15, 20, 25]\n",
    "# columns = [5, 11, 14, 16]\n",
    "colors = [ROOT.kRed+3, ROOT.kRed+2, ROOT.kRed, \n",
    "         ROOT.kBlue+3, ROOT.kBlue+2, ROOT.kBlue,\n",
    "         ROOT.kGreen+3, ROOT.kGreen+2, ROOT.kGreen]\n",
    "for i in range(len(columns)):\n",
    "    bias_gr.append(ROOT.TGraphErrors())\n",
    "    bias_gr[-1].SetLineColor(colors[i])\n",
    "    bias_gr[-1].SetMarkerColor(colors[i])\n",
    "    bias_gr[-1].SetTitle(str(columns[i]))\n",
    "    resol_gr.append(ROOT.TGraphErrors())\n",
    "    resol_gr[-1].SetLineColor(colors[i])\n",
    "    resol_gr[-1].SetMarkerColor(colors[i])\n",
    "    resol_gr[-1].SetTitle(str(columns[i]))\n",
    "for col in range(36):\n",
    "    for i in range(50):\n",
    "        if res[file_id][col][i].Integral() == 0:\n",
    "            continue\n",
    "        res[file_id][col][i].Fit('gaus', 'Q', '', -1.*ran, ran)\n",
    "        f = res[file_id][col][i].GetFunction('gaus')\n",
    "\n",
    "        if col in columns:\n",
    "            bias_gr[columns.index(col)].SetPoint(bias_gr[columns.index(col)].GetN(), ax.GetBinCenter(i+1)*100, 1e6*f.GetParameter(1))\n",
    "            bias_gr[columns.index(col)].SetPointError(bias_gr[columns.index(col)].GetN()-1, 0, 1e6*f.GetParError(1))\n",
    "            resol_gr[columns.index(col)].SetPoint(resol_gr[columns.index(col)].GetN(), ax.GetBinCenter(i+1)*100, 1e6*f.GetParameter(2))\n",
    "            resol_gr[columns.index(col)].SetPointError(resol_gr[columns.index(col)].GetN()-1, 0, 1e6*f.GetParError(2))\n",
    "\n",
    "\n",
    "mg = ROOT.TMultiGraph()\n",
    "mg2 = ROOT.TMultiGraph()\n",
    "for i in range(len(columns)):\n",
    "    bias_gr[i].SetMarkerStyle(20+i)\n",
    "    resol_gr[i].SetMarkerStyle(20+i)\n",
    "    mg.Add(bias_gr[i])\n",
    "    mg2.Add(resol_gr[i])\n",
    "cw.Clear()\n",
    "cw.Divide(2)   \n",
    "cw.cd(1)\n",
    "mg.Draw(\"ap\")\n",
    "mg.GetXaxis().SetRangeUser(-2.5, 4)\n",
    "mg.GetYaxis().SetTitle(\"Bias [#mum]\")\n",
    "mg.GetXaxis().SetTitle(\"Y [cm]\")\n",
    "mg.GetYaxis().SetRangeUser(-900, 900)\n",
    "ROOT.gPad.BuildLegend(0.4, 0.2, 0.6, 0.4)\n",
    "ROOT.gPad.SetGridx(0)\n",
    "ROOT.gPad.SetGridy(0)\n",
    "l = []\n",
    "for i in range(1, 5):\n",
    "    l.append(ROOT.TLine(-3+i*1, -900., -3+i*1, 900.));\n",
    "    l[-1].SetLineColor(ROOT.kBlue)\n",
    "    l[-1].Draw()\n",
    "cw.cd(2)\n",
    "mg2.Draw(\"ap\")\n",
    "mg2.GetXaxis().SetRangeUser(-2.5, 4)\n",
    "mg2.GetYaxis().SetTitle(\"Resolution [#mum]\")\n",
    "mg2.GetXaxis().SetTitle(\"Y [cm]\")\n",
    "mg2.GetYaxis().SetRangeUser(0., 500.)\n",
    "ROOT.gPad.BuildLegend(0.4, 0.6, 0.6, 0.8)\n",
    "ROOT.gPad.SetGridx(0)\n",
    "ROOT.gPad.SetGridy(0)\n",
    "l2 = []\n",
    "for i in range(1, 5):\n",
    "    l2.append(ROOT.TLine(-3+i*1, 0., -3+i*1, 500.));\n",
    "    l2[-1].SetLineColor(ROOT.kBlue)\n",
    "    l2[-1].Draw()\n",
    "\n",
    "cw.Draw()\n",
    "cw.Print(\"bias.pdf\")"
   ]
  },
  {
   "cell_type": "markdown",
   "metadata": {},
   "source": [
    "### PRF fit"
   ]
  },
  {
   "cell_type": "code",
   "execution_count": null,
   "metadata": {},
   "outputs": [],
   "source": [
    "cw.Clear()\n",
    "cw.Divide(2)\n",
    "\n",
    "formula = \"[0]*(1+[1]*x*x + [2] * x*x*x*x) / (1+[3]*x*x+[4]*x*x*x*x)\";\n",
    "formula = \"[0]*(1+[1]*(x-[5])*(x-[5]) + [2] * (x-[5])*(x-[5])*(x-[5])*(x-[5])) / (1+[3]*(x-[5])*(x-[5])+[4]*(x-[5])*(x-[5])*(x-[5])*(x-[5]))\"\n",
    "PRF_function  = ROOT.TF1(\"PRF_function\",\n",
    "                         formula,\n",
    "                         -0.027, 0.027);\n",
    "\n",
    "file_id = 2\n",
    "h1 = ROOT.TH2F('h1', '', 180, -0.027, 0.027, 100, 0., 1.)\n",
    "h2 = ROOT.TH2F('h2', '', 180, -0.027, 0.027, 100, 0., 1.)\n",
    "\n",
    "cw.cd(1)\n",
    "file[file_id].outtree.Project('h1', 'qfrac:dx', 'pad_x == 5')\n",
    "h1.Fit('PRF_function', 'Q')\n",
    "h1.Fit('PRF_function', 'Q')\n",
    "h1.Fit('PRF_function', '')\n",
    "h1.GetXaxis().SetTitle(\"X_{track} - X_{pad} [m]\")\n",
    "h1.GetYaxis().SetTitle(\"Q_{pad} / Q_{cluster}\")\n",
    "h1.Draw('colz')\n",
    "\n",
    "cw.cd(2)\n",
    "file[file_id].outtree.Project('h2', 'qfrac:dx', 'pad_x == 12')\n",
    "h2.Fit('PRF_function', 'Q')\n",
    "h2.Fit('PRF_function', '')\n",
    "h2.Draw('colz')\n",
    "\n",
    "cw.Draw()"
   ]
  },
  {
   "cell_type": "markdown",
   "metadata": {},
   "source": [
    "## Print the bias"
   ]
  },
  {
   "cell_type": "code",
   "execution_count": null,
   "metadata": {},
   "outputs": [],
   "source": [
    "ran = 0.003\n",
    "print('{', end='')\n",
    "for col in range(36):\n",
    "    print(', {', end='')\n",
    "    for i in range(50):\n",
    "        if res[col][i].Integral() == 0:\n",
    "            print(col, i, 0, sep='\\t')\n",
    "            print('0,', end='')\n",
    "            continue\n",
    "        res[col][i].Fit('gaus', 'Q', '', -1.*ran, ran)\n",
    "        f = res[col][i].GetFunction('gaus')\n",
    "        print(col, i, 1e6*f.GetParameter(1), sep='\\t')\n",
    "        print(f.GetParameter(1), end=', ')\n",
    "\n",
    "    print('}', end='')\n",
    "print('}')"
   ]
  },
  {
   "cell_type": "markdown",
   "metadata": {},
   "source": [
    "## Plot particular bias"
   ]
  },
  {
   "cell_type": "code",
   "execution_count": null,
   "metadata": {},
   "outputs": [],
   "source": [
    "%jsroot on\n",
    "\n",
    "cw.cd()\n",
    "cw.Clear()\n",
    "cw.Divide(2)\n",
    "cw.cd(1)\n",
    "ROOT.gPad.SetGrid()\n",
    "resol_gr.Draw(\"ap\")\n",
    "resol_gr.SetMaximum(500.)\n",
    "resol_gr.SetMinimum(0.)\n",
    "l1 = []\n",
    "for i in range(5):\n",
    "    l1.append(ROOT.TLine(-0.03+i*0.01, 0., -0.03+i*0.01, 500.));\n",
    "    l1[-1].SetLineColor(ROOT.kBlue)\n",
    "    l1[-1].Draw()\n",
    "resol_gr.GetYaxis().SetTitle('Resolution [#mum]')\n",
    "resol_gr.GetXaxis().SetTitle('Track position [m]')\n",
    "cw.cd(2)\n",
    "ROOT.gPad.SetGrid()\n",
    "bias_gr.Draw(\"ap\")\n",
    "bias_gr.SetMaximum(500.)\n",
    "bias_gr.SetMinimum(-500.)\n",
    "bias_gr.GetYaxis().SetTitle('Bias [#mum]')\n",
    "bias_gr.GetXaxis().SetTitle('Track position [m]')\n",
    "l = []\n",
    "for i in range(5):\n",
    "    l.append(ROOT.TLine(-0.03+i*0.01, -500., -0.03+i*0.01, 500.));\n",
    "    l[-1].SetLineColor(ROOT.kBlue)\n",
    "    l[-1].Draw()\n",
    "cw.Draw()"
   ]
  },
  {
   "cell_type": "code",
   "execution_count": null,
   "metadata": {},
   "outputs": [],
   "source": [
    "%jsroot on\n",
    "cw.cd(1)\n",
    "col = 7\n",
    "file_id = 0\n",
    "b = ax.FindBin(-0.0115)-1\n",
    "res[file_id][col][b].Draw()\n",
    "cw.cd(2)\n",
    "res[file_id][col][b].Draw()\n",
    "cw.Draw()\n",
    "print(ax.GetBinCenter(b+1), res[file_id][col][b].GetFunction('gaus').GetParameter(1)*1e6, '+-', res[file_id][col][b].GetFunction('gaus').GetParError(1)*1e6)"
   ]
  },
  {
   "cell_type": "markdown",
   "metadata": {},
   "source": [
    "### Charge fraction vs position"
   ]
  },
  {
   "cell_type": "code",
   "execution_count": null,
   "metadata": {},
   "outputs": [],
   "source": [
    "cl.Clear()\n",
    "cl.Divide(2, 2)\n",
    "\n",
    "file_id = 0\n",
    "pad = 1\n",
    "col = 5\n",
    "h = ROOT.TH2F('h', '', 50, -0.035, 0.015, 100, 0., 1.)\n",
    "file[file_id].outtree.Project('h', f'pad_charge[][{pad}] / charge[]:track_pos[]', f'pad_charge[][{pad}] > 0 && pad_x[][0] == {col}')\n",
    "cl.cd(1)\n",
    "h.GetXaxis().SetTitle('Track position [m]')\n",
    "h.GetYaxis().SetTitle('Q_{2} / Q_{cluster}')\n",
    "h.Draw('colz')\n",
    "ROOT.gPad.SetGrid()\n",
    "l = []\n",
    "for i in range(5):\n",
    "    l.append(ROOT.TLine(-0.03+i*0.01, 0., -0.03+i*0.01, 1.));\n",
    "    l[-1].SetLineColor(ROOT.kBlue)\n",
    "    l[-1].Draw()\n",
    "    \n",
    "h2 = ROOT.TH2F('h2', '', 50, -0.035, 0.015, 100, 0., 1.)\n",
    "file[file_id].outtree.Project('h2', f'pad_charge[][{pad}] / pad_charge[][0]:track_pos[]', f'pad_charge[][{pad}] > 0 && pad_x[][0] == 20')\n",
    "cl.cd(2)\n",
    "h2.GetXaxis().SetTitle('Track position [m]')\n",
    "h2.GetYaxis().SetTitle('Q_{' + str(pad+1) + '} / Q_{1}')\n",
    "h2.Draw('colz')\n",
    "ROOT.gPad.SetGrid()\n",
    "l2 = []\n",
    "for i in range(5):\n",
    "    l2.append(ROOT.TLine(-0.03+i*0.01, 0., -0.03+i*0.01, 1.));\n",
    "    l2[-1].SetLineColor(ROOT.kBlue)\n",
    "    l2[-1].Draw()\n",
    "    \n",
    "h3 = ROOT.TH2F('h3', '', 50, -0.035, 0.015, 100, 0., 4000.)\n",
    "file[file_id].outtree.Project('h3', f'pad_charge[][0]:track_pos[]', f'pad_charge[][0] > 0 && pad_x[][0] == {col}')\n",
    "cl.cd(3)\n",
    "h3.GetXaxis().SetTitle('Track position [m]')\n",
    "h3.GetYaxis().SetTitle('Q_{1}')\n",
    "h3.Draw('colz')\n",
    "ROOT.gPad.SetGrid()\n",
    "l4 = []\n",
    "for i in range(5):\n",
    "    l4.append(ROOT.TLine(-0.03+i*0.01, 0., -0.03+i*0.01, 4000));\n",
    "    l4[-1].SetLineColor(ROOT.kBlue)\n",
    "    l4[-1].Draw()\n",
    "    \n",
    "h4 = ROOT.TH2F('h4', '', 50, -0.035, 0.015, 100, 0., 1000.)\n",
    "file[file_id].outtree.Project('h4', f'pad_charge[][{pad}]:track_pos[]', f'pad_charge[][{pad}] > 0 && pad_x[][0] == {col}')\n",
    "cl.cd(4)\n",
    "h4.GetXaxis().SetTitle('Track position [m]')\n",
    "h4.GetYaxis().SetTitle('Q_{' + str(pad+1) + '}')\n",
    "h4.Draw('colz')\n",
    "ROOT.gPad.SetGrid()\n",
    "l3 = []\n",
    "for i in range(5):\n",
    "    l3.append(ROOT.TLine(-0.03+i*0.01, 0., -0.03+i*0.01, 1000));\n",
    "    l3[-1].SetLineColor(ROOT.kBlue)\n",
    "    l3[-1].Draw()\n",
    "    \n",
    "    \n",
    "cl.Draw()"
   ]
  },
  {
   "cell_type": "markdown",
   "metadata": {},
   "source": [
    "### Track position"
   ]
  },
  {
   "cell_type": "code",
   "execution_count": null,
   "metadata": {},
   "outputs": [],
   "source": [
    "c.Clear()\n",
    "c.cd()\n",
    "\n",
    "file_id = 0\n",
    "col_id = 1\n",
    "\n",
    "h = ROOT.TH1F('h', '', 200, -0.035, 0.015)\n",
    "file[file_id].outtree.Project('h', 'track_pos[]', f'mom < 0 && pad_x == {col_id}')\n",
    "h.Draw()\n",
    "c.Draw()"
   ]
  },
  {
   "cell_type": "code",
   "execution_count": null,
   "metadata": {},
   "outputs": [],
   "source": []
  }
 ],
 "metadata": {
  "kernelspec": {
   "display_name": "Python 3",
   "language": "python",
   "name": "python3"
  },
  "language_info": {
   "codemirror_mode": {
    "name": "ipython",
    "version": 3
   },
   "file_extension": ".py",
   "mimetype": "text/x-python",
   "name": "python",
   "nbconvert_exporter": "python",
   "pygments_lexer": "ipython3",
   "version": "3.9.2"
  }
 },
 "nbformat": 4,
 "nbformat_minor": 4
}
