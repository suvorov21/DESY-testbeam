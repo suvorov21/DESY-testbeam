{
 "cells": [
  {
   "cell_type": "code",
   "execution_count": null,
   "metadata": {},
   "outputs": [],
   "source": [
    "import ROOT\n",
    "# from T2KStyle import T2KStyle\n",
    "c = ROOT.TCanvas('c', '', 800, 600)\n",
    "cl = ROOT.TCanvas('cl', '', 1600, 1200)\n",
    "cw = ROOT.TCanvas('c2', '', 1600, 600)"
   ]
  },
  {
   "cell_type": "code",
   "execution_count": null,
   "metadata": {},
   "outputs": [],
   "source": [
    "# path = '~/LXPLUS/DESY_testbeam/tree/'\n",
    "path = '/eos/user/s/ssuvorov/DESY_testbeam/cosmic_strict_v2/'\n",
    "file_name = path + '/er3_380V'\n",
    "N_iter = 4"
   ]
  },
  {
   "cell_type": "code",
   "execution_count": null,
   "metadata": {},
   "outputs": [],
   "source": [
    "PRF_function  = ROOT.TF1(\"PRF_function\",\n",
    "                         \"[0]*(1+[1]*x*x + [2] * x*x*x*x) / (1+[3]*x*x+[4]*x*x*x*x)\",\n",
    "                         -0.027, 0.027);\n",
    "PRF_function.SetLineColor(ROOT.kRed)\n",
    "\n",
    "file = ROOT.TFile(file_name + '_iter' + str(N_iter-1) + '.root')\n",
    "cl.Clear()\n",
    "cl.Divide(2, 2)\n",
    "for i in range(4):\n",
    "    if i == 0:\n",
    "        histo = file.Get('PRF_histo')\n",
    "        gr = file.Get('PRF_graph')\n",
    "    else:\n",
    "        histo = file.Get('prf_mult/PRF_histo_' + str(i+1) + 'pad')\n",
    "        gr = file.Get('prf_mult/PRF_graph_' + str(i+1) + 'pad')\n",
    "    cl.cd(i+1)\n",
    "#     histo.Fit('PRF_function', 'Q', '', -0.025, 0.025)\n",
    "    histo.GetYaxis().SetRangeUser(0., 1.)\n",
    "    histo.Draw('colz')\n",
    "#     gr.GetFunction(\"PRF_function\").SetLineColor(ROOT.kRed)\n",
    "    gr.SetLineColor(ROOT.kRed)\n",
    "    gr.SetMarkerColor(ROOT.kRed)\n",
    "    gr.Draw('same p')\n",
    "cl.Draw()"
   ]
  },
  {
   "cell_type": "markdown",
   "metadata": {},
   "source": [
    "# PRF over iterations"
   ]
  },
  {
   "cell_type": "code",
   "execution_count": null,
   "metadata": {},
   "outputs": [],
   "source": [
    "par = []\n",
    "par_col = []\n",
    "for i in range(5):\n",
    "    par.append(ROOT.TGraphErrors())\n",
    "    par_col.append(ROOT.TGraphErrors())\n",
    "\n",
    "for it in range(N_iter):\n",
    "    file = ROOT.TFile(file_name + '_iter' + str(it) + '.root')\n",
    "    func = file.Get('PRF_function') \n",
    "    for i in range(5):\n",
    "        par[i].SetPoint(it, it, func.GetParameter(i))\n",
    "        par[i].SetPointError(it, func.GetParError(i))"
   ]
  },
  {
   "cell_type": "markdown",
   "metadata": {},
   "source": [
    "# PRF over column"
   ]
  },
  {
   "cell_type": "code",
   "execution_count": null,
   "metadata": {},
   "outputs": [],
   "source": [
    "file = ROOT.TFile(file_name + '_iter' + str(2) + '.root')\n",
    "for i in range(36):\n",
    "    h = file.Get(f'prf_column/PRF_histo_col_{i}')\n",
    "    h.Fit('PRF_function', 'Q', '', -0.025, 0.025)\n",
    "    for j in range(5):\n",
    "        par_col[j].SetPoint(i, i, PRF_function.GetParameter(j))\n",
    "        par_col[j].SetPointError(i, PRF_function.GetParError(j))"
   ]
  },
  {
   "cell_type": "code",
   "execution_count": null,
   "metadata": {},
   "outputs": [],
   "source": [
    "par_name = ['Const', 'a2', 'a4', 'b2', 'b4']\n",
    "cl.Divide(2, 3)\n",
    "for i in range(1, 6):\n",
    "    c.cd(i)\n",
    "    par[i-1].GetYaxis().SetTitle(par_name[i-1])\n",
    "    par[i-1].GetXaxis().SetTitle('Iteration')\n",
    "    par[i-1].Draw('ap')\n",
    "    \n",
    "cl.Draw()"
   ]
  },
  {
   "cell_type": "code",
   "execution_count": null,
   "metadata": {},
   "outputs": [],
   "source": [
    "c = ROOT.TCanvas('c', '', 1600, 1200)\n",
    "\n",
    "par_name = ['Const', 'a2', 'a4', 'b2', 'b4']\n",
    "c.Divide(2, 3)\n",
    "for i in range(1, 6):\n",
    "    c.cd(i)\n",
    "    par_col[i-1].GetYaxis().SetTitle(par_name[i-1])\n",
    "    par_col[i-1].GetXaxis().SetTitle('Column')\n",
    "    par_col[i-1].Draw('ap')\n",
    "    \n",
    "c.Draw()"
   ]
  },
  {
   "cell_type": "markdown",
   "metadata": {},
   "source": [
    "# PRF MM vs ERAM"
   ]
  },
  {
   "cell_type": "code",
   "execution_count": null,
   "metadata": {},
   "outputs": [],
   "source": [
    "N_iter = 5\n",
    "file_mm = ROOT.TFile(path + 'mm1_380V_200ns_iter' + str(N_iter) + '.root', 'READ')\n",
    "file_er = ROOT.TFile(path + 'er2_360V_iter' + str(N_iter) + '.root', 'READ')\n",
    "\n",
    "PRF_er_hi = file_er.Get('PRF_histo')\n",
    "PRF_mm_gr = file_mm.Get('PRF_graph')\n",
    "PRF_er_gr = file_er.Get('PRF_graph')\n",
    "PRF_mm_hi = file_mm.Get('PRF_histo')\n",
    "\n",
    "\n",
    "c.Clear()\n",
    "leg = ROOT.TLegend(0.2,0.2,0.4,0.4);\n",
    "\n",
    "PRF_er_gr.GetFunction('PRF_function').SetLineColor(ROOT.kGreen)\n",
    "PRF_mm_gr.GetFunction('PRF_function').SetLineColor(ROOT.kRed)\n",
    "PRF_er_gr.GetFunction('PRF_function').GetYaxis().SetTitle('Q_{pad}/Q_{cluster}')\n",
    "PRF_er_gr.GetFunction('PRF_function').GetXaxis().SetTitle('x_{pad}-x_{track}')\n",
    "PRF_er_gr.GetFunction('PRF_function').GetYaxis().SetRangeUser(0., 1.)\n",
    "PRF_er_gr.GetFunction('PRF_function').Draw('l')\n",
    "PRF_mm_gr.GetFunction('PRF_function').Draw('same l')\n",
    "leg.AddEntry(PRF_er_gr, 'ERAM2 360V', 'l')\n",
    "leg.AddEntry(PRF_mm_gr, 'MM1 380V', 'l')\n",
    "c.Draw()\n",
    "# leg.Draw()"
   ]
  },
  {
   "cell_type": "code",
   "execution_count": null,
   "metadata": {},
   "outputs": [],
   "source": [
    "cl.Clear()\n",
    "cl.Divide(2, 2)\n",
    "\n",
    "file_mm = ROOT.TFile(path + 'mm1_380V_200ns_iter' + str(0) + '.root', 'READ')\n",
    "file_er = ROOT.TFile(path + 'er2_360V_iter' + str(0) + '.root', 'READ')\n",
    "\n",
    "PRF_er_hi = file_er.Get('PRF_histo')\n",
    "PRF_mm_hi = file_mm.Get('PRF_histo')\n",
    "cl.cd(1)\n",
    "PRF_mm_hi.GetYaxis().SetRangeUser(0., 1.)\n",
    "PRF_mm_hi.Draw('colz')\n",
    "cl.cd(3)\n",
    "PRF_er_hi.GetYaxis().SetRangeUser(0., 1.)\n",
    "PRF_er_hi.Draw('colz')\n",
    "\n",
    "\n",
    "file_mm_last = ROOT.TFile(folder + 'mm1_380V_200ns_iter' + str(N_iter) + '.root', 'READ')\n",
    "file_er_last = ROOT.TFile(folder + 'er2_360V_iter' + str(N_iter) + '.root', 'READ')\n",
    "\n",
    "PRF_er_hi = file_er_last.Get('PRF_histo')\n",
    "PRF_mm_hi = file_mm_last.Get('PRF_histo')\n",
    "\n",
    "cl.cd(2)\n",
    "PRF_mm_hi.GetYaxis().SetRangeUser(0., 1.)\n",
    "PRF_mm_hi.Draw('colz')\n",
    "cl.cd(4)\n",
    "PRF_er_hi.GetYaxis().SetRangeUser(0., 1.)\n",
    "PRF_er_hi.Draw('colz')\n",
    "\n",
    "cl.Draw()\n"
   ]
  },
  {
   "cell_type": "code",
   "execution_count": null,
   "metadata": {},
   "outputs": [],
   "source": []
  }
 ],
 "metadata": {
  "kernelspec": {
   "display_name": "Python 3",
   "language": "python",
   "name": "python3"
  },
  "language_info": {
   "codemirror_mode": {
    "name": "ipython",
    "version": 3
   },
   "file_extension": ".py",
   "mimetype": "text/x-python",
   "name": "python",
   "nbconvert_exporter": "python",
   "pygments_lexer": "ipython3",
   "version": "3.8.0"
  }
 },
 "nbformat": 4,
 "nbformat_minor": 4
}
