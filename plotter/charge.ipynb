{
 "cells": [
  {
   "cell_type": "code",
   "execution_count": null,
   "metadata": {},
   "outputs": [],
   "source": [
    "import ROOT\n",
    "from T2KStyle import T2KStyle\n",
    "c = ROOT.TCanvas('c', '', 800, 600)\n",
    "cl = ROOT.TCanvas('cl', '', 1600, 1200)\n",
    "cw = ROOT.TCanvas('c2', '', 1600, 600)"
   ]
  },
  {
   "cell_type": "code",
   "execution_count": 2,
   "metadata": {},
   "outputs": [],
   "source": [
    "# 0 - desy\n",
    "# 1 - mm1\n",
    "# 2 - er2\n",
    "# 3 - er3\n",
    "\n",
    "# 4 - DESY cosmic\n",
    "\n",
    "file = [ROOT.TFile('~/LXPLUS/DESY_testbeam/multi_pad/g_360_200_dedx.root')]\n",
    "file.append(ROOT.TFile('~/LXPLUS/DESY_testbeam/cosmic_eram/mm1_360V_200ns_dedx.root'))\n",
    "file.append(ROOT.TFile('~/LXPLUS/DESY_testbeam/cosmic_eram/er2_360V_dedx.root'))\n",
    "file.append(ROOT.TFile('~/LXPLUS/DESY_testbeam/cosmic_eram/er3_360V_dedx.root'))\n",
    "\n",
    "# file.append(ROOT.TFile('~/LXPLUS/DESY_testbeam/multi_pad/c_0d_0p2T_200ns_50Mhz_dedx.root'))\n",
    "file.append(ROOT.TFile('~/LXPLUS/DESY_testbeam/multi_pad/c_0d_0T_200ns_25Mhz_dedx.root'))\n",
    "\n",
    "name = ['DESY beam', 'MM1', 'ERAM2', 'ERAM3', 'DESY_cosmic', 'DESY_cosmic 2']\n",
    "color = [ROOT.kBlack, ROOT.kRed, ROOT.kGreen, ROOT.kBlue, ROOT.kViolet, ROOT.kCyan]"
   ]
  },
  {
   "cell_type": "code",
   "execution_count": null,
   "metadata": {},
   "outputs": [],
   "source": [
    "cl.cd()\n",
    "cl.Clear()\n",
    "cl.Divide(2, 2)\n",
    "\n",
    "ROOT.gStyle.SetOptTitle(0)\n",
    "\n",
    "leg = ROOT.TLegend(0.2,0.2,0.4,0.4);\n",
    "\n",
    "for i in range(2, 0, -1):\n",
    "    opt = 'histo' if i == 2 else 'histo same'\n",
    "    \n",
    "    cl.cd(1)\n",
    "    charge = file[i].Get('un_trunc_cluster')\n",
    "    charge.Scale(1./charge.Integral())\n",
    "    charge.SetLineColor(color[i])\n",
    "    charge.SetTitle(name[i])\n",
    "    charge.GetXaxis().SetTitle('Untrancated charge [a.u.]')\n",
    "    charge.GetXaxis().SetRangeUser(0., 5000.)\n",
    "    charge.Draw(opt)\n",
    "    \n",
    "    cl.cd(2)\n",
    "    dedx = file[i].Get('dEdx')\n",
    "    dedx.Scale(1./dedx.Integral())\n",
    "    dedx.SetLineColor(color[i])\n",
    "    dedx.SetTitle(name[i])\n",
    "    dedx.Draw(opt)\n",
    "    dedx.GetXaxis().SetTitle('Trancated charge [a.u.]')\n",
    "    dedx.GetXaxis().SetRangeUser(0., 2000.)\n",
    "    \n",
    "    cl.cd(3)\n",
    "    Mult = file[i].Get('Mult')\n",
    "    Mult.Scale(1./Mult.Integral())\n",
    "    Mult.SetLineColor(color[i])\n",
    "    Mult.SetTitle(name[i])\n",
    "    Mult.Draw(opt)\n",
    "    Mult.GetXaxis().SetTitle('Multiplicity')\n",
    "    \n",
    "    cl.cd(4)\n",
    "    leg.AddEntry(Mult, name[i], 'l')\n",
    "    \n",
    "\n",
    "cl.Draw()\n",
    "cl.cd(4)\n",
    "leg.Draw()\n",
    "# cl.BuildLegend()    "
   ]
  },
  {
   "cell_type": "code",
   "execution_count": null,
   "metadata": {},
   "outputs": [],
   "source": [
    "cw.Clear()\n",
    "cw.Divide(2)\n",
    "\n",
    "cw.cd(1)\n",
    "angle = file[1].Get('angle')\n",
    "angle.GetXaxis().SetRangeUser(0., 0.3)\n",
    "angle.GetYaxis().SetRangeUser(0., 0.3)\n",
    "angle.GetXaxis().SetTitle('tg(#phi)')\n",
    "angle.GetYaxis().SetTitle('tg(#theta)')\n",
    "angle.Draw('colz')\n",
    "\n",
    "cw.cd(2)\n",
    "angle = file[2].Get('angle')\n",
    "angle.GetXaxis().SetRangeUser(0., 0.3)\n",
    "angle.GetYaxis().SetRangeUser(0., 0.3)\n",
    "angle.GetXaxis().SetTitle('tg(#phi)')\n",
    "angle.GetYaxis().SetTitle('tg(#theta)')\n",
    "angle.Draw('colz')\n",
    "\n",
    "cw.Draw()"
   ]
  },
  {
   "cell_type": "code",
   "execution_count": null,
   "metadata": {},
   "outputs": [],
   "source": [
    "cw.Clear()\n",
    "cw.Divide(2)\n",
    "\n",
    "c.cd()\n",
    "\n",
    "# cw.cd(1)\n",
    "# ROOT.gPad.SetLogy()\n",
    "# ROOT.gPad.SetGrid()\n",
    "# delta_t_lead = file[1].Get('delta_t_fst')\n",
    "# delta_t_lead.GetXaxis().SetTitle('t_{lead}-t_{second}')\n",
    "# delta_t_lead.SetLineColor(ROOT.kRed)\n",
    "# delta_t_lead.Scale(1./delta_t_lead.Integral())\n",
    "# delta_t_lead.Draw(' histo')\n",
    "# print(delta_t_lead.Integral(0, 150) / delta_t_lead.Integral())\n",
    "\n",
    "# delta_t_lead = file[2].Get('delta_t_fst')\n",
    "# delta_t_lead.GetXaxis().SetTitle('t_{lead}-t_{second}')\n",
    "# delta_t_lead.SetLineColor(ROOT.kGreen)\n",
    "# delta_t_lead.Scale(1./delta_t_lead.Integral())\n",
    "# delta_t_lead.Draw(' histosame')\n",
    "\n",
    "c.cd(2)\n",
    "ROOT.gPad.SetLogy()\n",
    "ROOT.gPad.SetGrid()\n",
    "for i in range(5):\n",
    "    opt = 'histo' if i == 0 else 'histo same'\n",
    "    delta_t_lead = file[i].Get('delta_t_scd')\n",
    "    delta_t_lead.GetXaxis().SetTitle('t_{lead}-t_{third} [time bins]')\n",
    "    delta_t_lead.SetLineColor(color[i])\n",
    "    delta_t_lead.SetTitle(name[i])\n",
    "    delta_t_lead.GetXaxis().SetRangeUser(-50., 100.)\n",
    "    delta_t_lead.Scale(1./delta_t_lead.Integral())\n",
    "    delta_t_lead.GetYaxis().SetRangeUser(1e-4, 3e-1)\n",
    "    delta_t_lead.Draw(opt)\n",
    "\n",
    "ROOT.gPad.BuildLegend()\n",
    "\n",
    "c.Draw()"
   ]
  },
  {
   "cell_type": "code",
   "execution_count": null,
   "metadata": {},
   "outputs": [],
   "source": [
    "cw.Clear()\n",
    "cw.Divide(2)\n",
    "\n",
    "cw.cd(1)\n",
    "ROOT.gPad.SetLogy()\n",
    "ROOT.gPad.SetGrid()\n",
    "delta_t_lead = file[0].Get('delta_t_fst')\n",
    "delta_t_lead.GetXaxis().SetTitle('t_{lead}-t_{second}')\n",
    "delta_t_lead.SetLineColor(ROOT.kBlack)\n",
    "delta_t_lead.Scale(1./delta_t_lead.Integral())\n",
    "delta_t_lead.Draw(' histo')\n",
    "\n",
    "cw.cd(2)\n",
    "ROOT.gPad.SetLogy()\n",
    "ROOT.gPad.SetGrid()\n",
    "delta_t_lead = file[0].Get('delta_t_scd')\n",
    "delta_t_lead.GetXaxis().SetTitle('t_{lead}-t_{third}')\n",
    "delta_t_lead.SetLineColor(ROOT.kBlack)\n",
    "delta_t_lead.Scale(1./delta_t_lead.Integral())\n",
    "delta_t_lead.Draw(' histosame')\n",
    "\n",
    "cw.Draw()"
   ]
  },
  {
   "cell_type": "code",
   "execution_count": null,
   "metadata": {},
   "outputs": [],
   "source": [
    "c.Clear()\n",
    "c.cd()\n",
    "angle = file[0].Get('angle')\n",
    "angle.GetXaxis().SetRangeUser(0., 0.3)\n",
    "angle.GetYaxis().SetRangeUser(0., 0.3)\n",
    "angle.GetXaxis().SetTitle('tg(#phi)')\n",
    "angle.GetYaxis().SetTitle('tg(#theta)')\n",
    "angle.Draw('colz')\n",
    "c.Draw()"
   ]
  },
  {
   "cell_type": "code",
   "execution_count": 16,
   "metadata": {},
   "outputs": [
    {
     "data": {
      "image/png": "[encoded data removed]",
      "text/plain": [
       "<IPython.core.display.Image object>"
      ]
     },
     "metadata": {},
     "output_type": "display_data"
    }
   ],
   "source": [
    "c.Clear()\n",
    "c.cd()\n",
    "dt_angle = file[1].Get('dt_angle')\n",
    "dt_angle.GetYaxis().SetRangeUser(0., 0.3)\n",
    "dt_angle.GetYaxis().SetTitle('tan(#theta)')\n",
    "dt_angle.GetXaxis().SetTitle('t_{lead} - t_{2nd}')\n",
    "dt_angle.Draw('colz')\n",
    "c.SetLogz()\n",
    "c.Draw()"
   ]
  },
  {
   "cell_type": "code",
   "execution_count": null,
   "metadata": {},
   "outputs": [],
   "source": [
    "c.Clear()\n",
    "c.cd()\n",
    "dt_angle = file[0].Get('dt_angle')\n",
    "dt_angle.GetYaxis().SetRangeUser(0., 0.3)\n",
    "dt_angle.Draw('colz')\n",
    "c.SetLogz()\n",
    "c.Draw()"
   ]
  },
  {
   "cell_type": "code",
   "execution_count": null,
   "metadata": {},
   "outputs": [],
   "source": []
  }
 ],
 "metadata": {
  "kernelspec": {
   "display_name": "Python 3",
   "language": "python",
   "name": "python3"
  },
  "language_info": {
   "codemirror_mode": {
    "name": "ipython",
    "version": 3
   },
   "file_extension": ".py",
   "mimetype": "text/x-python",
   "name": "python",
   "nbconvert_exporter": "python",
   "pygments_lexer": "ipython3",
   "version": "3.7.3"
  }
 },
 "nbformat": 4,
 "nbformat_minor": 4
}
