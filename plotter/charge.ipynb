{
 "cells": [
  {
   "cell_type": "markdown",
   "metadata": {},
   "source": [
    "# Initilaisation"
   ]
  },
  {
   "cell_type": "code",
   "execution_count": null,
   "metadata": {},
   "outputs": [],
   "source": [
    "import ROOT\n",
    "# from T2KStyle import T2KStyle\n",
    "c = ROOT.TCanvas('c', '', 800, 600)\n",
    "cl = ROOT.TCanvas('cl', '', 1600, 1200)\n",
    "cw = ROOT.TCanvas('c2', '', 1600, 600)"
   ]
  },
  {
   "cell_type": "code",
   "execution_count": null,
   "metadata": {},
   "outputs": [],
   "source": [
    "# 0 - desy\n",
    "# 1 - mm1\n",
    "# 2 - er2\n",
    "# 3 - er3\n",
    "\n",
    "# 4 - DESY cosmic\n",
    "# path = '~/LXPLUS/DESY_testbeam/cosmic_strict_v2/'\n",
    "path = '/eos/user/s/ssuvorov/DESY_testbeam/cosmic_strict_v2/'\n",
    "voltage = '380'\n",
    "\n",
    "file = [ROOT.TFile(path + '../tree/g_' + voltage + '_200_dedx.root')]\n",
    "file.append(ROOT.TFile(path + '/mm1_' + voltage + 'V_200ns_dedx.root'))\n",
    "file.append(ROOT.TFile(path + '/er2_' + voltage + 'V_dedx.root'))\n",
    "file.append(ROOT.TFile(path + '/er3_' + voltage + 'V_dedx.root'))\n",
    "\n",
    "# file.append(ROOT.TFile('~/LXPLUS/DESY_testbeam/multi_pad/c_0d_0p2T_200ns_50Mhz_dedx.root'))\n",
    "file.append(ROOT.TFile(path + '../tree/c_0d_0T_200ns_25Mhz_dedx.root'))\n",
    "\n",
    "name = ['DESY beam', 'MM1', 'ERAM2', 'ERAM3', 'DESY_cosmic', 'DESY_cosmic 2']\n",
    "color = [ROOT.kBlack, ROOT.kRed, ROOT.kGreen, ROOT.kBlue, ROOT.kViolet, ROOT.kCyan]"
   ]
  },
  {
   "cell_type": "markdown",
   "metadata": {},
   "source": [
    "# Analysis"
   ]
  },
  {
   "cell_type": "markdown",
   "metadata": {},
   "source": [
    "## Charge"
   ]
  },
  {
   "cell_type": "code",
   "execution_count": null,
   "metadata": {},
   "outputs": [],
   "source": [
    "%jsroot on\n",
    "cl.Clear()\n",
    "cl.Divide(2, 2)\n",
    "\n",
    "ROOT.gStyle.SetOptTitle(0)\n",
    "\n",
    "hs = [ROOT.THStack(\"hs_charge\", \"\")]\n",
    "hs.append(ROOT.THStack(\"hs_dedx\", \"\"));\n",
    "hs.append(ROOT.THStack(\"hs_mult\", \"\"))\n",
    "\n",
    "x_axis = ['Untruncated charge [a.u.]', 'Truncated charge [a.u.]', 'Multiplicity']\n",
    "x_axis_r = [[0., 5000.], [0., 2000.], [0., 10.]]\n",
    "\n",
    "for i in [0, 1, 2, 3, 4]:\n",
    "    charge = file[i].Get('un_trunc_cluster')\n",
    "    charge.Scale(1./charge.Integral())\n",
    "    charge.SetLineColor(color[i])\n",
    "    charge.SetTitle(name[i])\n",
    "    hs[0].Add(charge)\n",
    "\n",
    "\n",
    "    dedx = file[i].Get('dEdx')\n",
    "    dedx.Scale(1./dedx.Integral())\n",
    "    dedx.SetLineColor(color[i])\n",
    "    dedx.SetTitle(name[i])\n",
    "    dedx.GetXaxis().SetRangeUser(0., 2000.)\n",
    "    hs[1].Add(dedx)\n",
    "\n",
    "    Mult = file[i].Get('Mult')\n",
    "    Mult.Scale(1./Mult.Integral())\n",
    "    Mult.SetLineColor(color[i])\n",
    "    Mult.SetTitle(name[i])\n",
    "    hs[2].Add(Mult)\n",
    "    \n",
    "for i, h in enumerate(hs):\n",
    "    cl.cd(i+1)\n",
    "    h.Draw('histo nostack')\n",
    "    h.GetXaxis().SetTitle(x_axis[i])\n",
    "    h.GetXaxis().SetRangeUser(x_axis_r[i][0], x_axis_r[i][1])\n",
    "    ROOT.gPad.BuildLegend(0.5, 0.55, 0.8, 0.85)\n",
    "\n",
    "    \n",
    "cl.Draw()"
   ]
  },
  {
   "cell_type": "code",
   "execution_count": null,
   "metadata": {},
   "outputs": [],
   "source": [
    "c.Clear()\n",
    "c.cd()\n",
    "hs = ROOT.THStack(\"hs_charge\", \"\")\n",
    "for i in [0, 1, 2, 3, 4]:\n",
    "    dedx = file[i].Get('dEdx')\n",
    "    dedx.Scale(1./dedx.Integral())\n",
    "    dedx.SetLineColor(color[i])\n",
    "    dedx.SetTitle(name[i])\n",
    "    dedx.GetXaxis().SetRangeUser(0., 2000.)\n",
    "    hs.Add(dedx)\n",
    "    dedx.Fit('gaus')\n",
    "    sigma = dedx.GetFunction('gaus').GetParameter(2)\n",
    "    mean = dedx.GetFunction('gaus').GetParameter(1)\n",
    "    print(100*sigma/mean)\n",
    "hs.Draw('histo nostack')\n",
    "hs.GetXaxis().SetRangeUser(0., 1600) \n",
    "c.Draw()"
   ]
  },
  {
   "cell_type": "code",
   "execution_count": null,
   "metadata": {},
   "outputs": [],
   "source": [
    "%jsroot on\n",
    "cw.Clear()\n",
    "cw.cd()\n",
    "cw.Divide(3)\n",
    "ROOT.gStyle.SetOptTitle(1)\n",
    "\n",
    "hs = []\n",
    "for pad in range(3):\n",
    "    cw.cd(pad+1)\n",
    "    hs.append(ROOT.THStack('hs', ''))\n",
    "    h = []\n",
    "    for i in [0, 1, 2, 3]:\n",
    "        if pad == 0:\n",
    "            h.append(ROOT.TH1F('h', '', 100, 0., 2000.))\n",
    "        else:\n",
    "            h.append(ROOT.TH1F('h', '', 200, 0., 800.))\n",
    "            \n",
    "        file[i].outtree.Project('h', f'pad_charge[{pad}][]', f'multiplicity > {pad+1}')\n",
    "        h[-1].Scale(1./h[-1].Integral())\n",
    "        h[-1].SetTitle(name[i])\n",
    "        h[-1].SetLineColor(color[i])\n",
    "        hs[-1].Add(h[-1])\n",
    "    \n",
    "    hs[-1].Draw('histo nostack')\n",
    "    hs[-1].GetXaxis().SetTitle('Charge [a.u.]')\n",
    "    hs[-1].SetTitle(f'Pad {pad+1}')\n",
    "    ROOT.gPad.BuildLegend()\n",
    "cw.Draw()    "
   ]
  },
  {
   "cell_type": "code",
   "execution_count": null,
   "metadata": {},
   "outputs": [],
   "source": [
    "h = ROOT.TH1F('h', '', 1, 0., 1.)\n",
    "for i in [0, 1, 2, 3, 4]:\n",
    "    pads = file[i].outtree.Project('h', 'pad_charge[3][]', 'multiplicity > 2')\n",
    "    bad = file[i].outtree.Project('h', 'pad_charge[3][]', 'multiplicity > 2 && pad_time[2][] - pad_time[0][] < 2')\n",
    "    print(bad / pads * 100)"
   ]
  },
  {
   "cell_type": "markdown",
   "metadata": {},
   "source": [
    "## Angle"
   ]
  },
  {
   "cell_type": "code",
   "execution_count": null,
   "metadata": {},
   "outputs": [],
   "source": [
    "cw.Clear()\n",
    "cw.Divide(2)\n",
    "\n",
    "cw.cd(1)\n",
    "f_id = 1\n",
    "angle = file[f_id].Get('angle')\n",
    "angle.GetXaxis().SetRangeUser(0., 0.4)\n",
    "angle.GetYaxis().SetRangeUser(0., 0.4)\n",
    "angle.SetTitle(name[f_id])\n",
    "angle.GetXaxis().SetTitle('tg(#phi)')\n",
    "angle.GetYaxis().SetTitle('tg(#theta)')\n",
    "angle.Draw('colz')\n",
    "\n",
    "cw.cd(2)\n",
    "f_id = 2\n",
    "angle = file[f_id].Get('angle')\n",
    "angle.GetXaxis().SetRangeUser(0., 0.4)\n",
    "angle.GetYaxis().SetRangeUser(0., 0.4)\n",
    "angle.SetTitle(name[f_id])\n",
    "angle.GetXaxis().SetTitle('tg(#phi)')\n",
    "angle.GetYaxis().SetTitle('tg(#theta)')\n",
    "angle.Draw('colz')\n",
    "\n",
    "cw.Draw()"
   ]
  },
  {
   "cell_type": "markdown",
   "metadata": {},
   "source": [
    "## Gas quality"
   ]
  },
  {
   "cell_type": "code",
   "execution_count": null,
   "metadata": {},
   "outputs": [],
   "source": [
    "%jsroot on\n",
    "cl.Clear()\n",
    "cl.cd()\n",
    "cl.Divide(2, 2)\n",
    "\n",
    "h2 = []\n",
    "\n",
    "for i in [0, 1, 2, 3]:\n",
    "    cl.cd(i+1)\n",
    "    h2.append(ROOT.TH2F('h2', '', 511, 0., 511., 100, 0., 3000.))\n",
    "    file[i].outtree.Project('h2', 'dEdx:pad_time[0][]', '', '')\n",
    "    h2[i].GetXaxis().SetTitle('t_{1}')\n",
    "    h2[i].GetYaxis().SetTitle('Cluster charge')\n",
    "    h2[i].Draw('colz')\n",
    "    \n",
    "cl.Draw()"
   ]
  },
  {
   "cell_type": "code",
   "execution_count": null,
   "metadata": {},
   "outputs": [],
   "source": [
    "%jsroot on\n",
    "c.Clear()\n",
    "c.cd()\n",
    "\n",
    "h2 = []\n",
    "\n",
    "hs = ROOT.THStack('hs', '')\n",
    "\n",
    "for i in [1, 2, 3]:\n",
    "#     cl.cd(i+1)\n",
    "    h2.append(ROOT.TH1F('h2', '', 511, 0., 511.))\n",
    "    file[i].outtree.Project('h2', 'pad_time[0][]', '', '')\n",
    "    h2[-1].Scale(1./h2[-1].Integral())\n",
    "    h2[-1].SetLineColor(color[i])\n",
    "    h2[-1].SetTitle(name[i])\n",
    "    hs.Add(h2[-1])\n",
    "\n",
    "hs.Draw('histo nostack')\n",
    "hs.GetXaxis().SetTitle('t_{1}')\n",
    "c.BuildLegend()   \n",
    "c.Draw()"
   ]
  },
  {
   "cell_type": "code",
   "execution_count": null,
   "metadata": {},
   "outputs": [],
   "source": [
    "%jsroot on\n",
    "cl.Clear()\n",
    "cl.cd()\n",
    "cl.Divide(2, 2)\n",
    "\n",
    "for i in [0, 1, 2, 3]:\n",
    "    cl.cd(i+1)\n",
    "    h2 = ROOT.TH2F('h2', '', 511, 0., 511., 100, 0., 3000.)\n",
    "    file[i].outtree.Project('h2', 'dEdx:pad_time[0][]', '', '')\n",
    "    h2.GetXaxis().SetTitle('t_{1}')\n",
    "    h2.GetYaxis().SetTitle('Cluster charge')\n",
    "    h2.Draw('colz')\n",
    "    \n",
    "cl.Draw()"
   ]
  },
  {
   "cell_type": "code",
   "execution_count": null,
   "metadata": {},
   "outputs": [],
   "source": []
  }
 ],
 "metadata": {
  "kernelspec": {
   "display_name": "Python 3",
   "language": "python",
   "name": "python3"
  },
  "language_info": {
   "codemirror_mode": {
    "name": "ipython",
    "version": 3
   },
   "file_extension": ".py",
   "mimetype": "text/x-python",
   "name": "python",
   "nbconvert_exporter": "python",
   "pygments_lexer": "ipython3",
   "version": "3.8.0"
  }
 },
 "nbformat": 4,
 "nbformat_minor": 4
}
