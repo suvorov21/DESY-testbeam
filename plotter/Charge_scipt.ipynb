{
 "cells": [
  {
   "cell_type": "code",
   "execution_count": null,
   "metadata": {},
   "outputs": [],
   "source": [
    "import ROOT\n",
    "from T2KStyle import T2KStyle\n",
    "c = ROOT.TCanvas('c', '', 800, 600)\n",
    "cl = ROOT.TCanvas('cl', '', 1600, 1200)\n",
    "cw = ROOT.TCanvas('c2', '', 1600, 600)\n",
    "cw3 = ROOT.TCanvas('c3', '', 2400, 600)"
   ]
  },
  {
   "cell_type": "code",
   "execution_count": null,
   "metadata": {},
   "outputs": [],
   "source": [
    "path = '~/LXPLUS/DESY_testbeam/tree_v3/'\n",
    "f = [ROOT.TFile(path + 'mm1_360_iter0.root'),\n",
    "     ROOT.TFile(path + 'mm1_370_iter0.root'),\n",
    "     ROOT.TFile(path + 'mm1_380.root')]\n",
    "\n",
    "name = ['MM1 November 360V', 'MM1 November 370V', 'MM1 November 380V']\n",
    "color = [ROOT.kCyan, ROOT.kMagenta, ROOT.kYellow]"
   ]
  },
  {
   "cell_type": "code",
   "execution_count": null,
   "metadata": {},
   "outputs": [],
   "source": [
    "# path = '~/LXPLUS/DESY_testbeam/hs_para3/'\n",
    "path = '~/DATA/hs_para3/'\n",
    "\n",
    "file = [ROOT.TFile(path + 's_200_430_02T_iter9.root'),\n",
    "        ROOT.TFile(path + 's_200_480_02T_iter9.root'),\n",
    "        ROOT.TFile(path + 's_412_430_02T_iter9.root'),\n",
    "        ROOT.TFile(path + 's_412_480_02T_iter9.root')\n",
    "       ]\n",
    "\n",
    "title = ['200 ns 430 mm', '200 ns 480 mm', '412 ns 430 mm', '412 ns 480 mm']"
   ]
  },
  {
   "cell_type": "code",
   "execution_count": null,
   "metadata": {},
   "outputs": [],
   "source": [
    "%jsroot on\n",
    "path = '~/LXPLUS/DESY_testbeam/time_para/'\n",
    "dist = '430'\n",
    "file      = [ROOT.TFile(path + f'/p_116_{dist}_iter9.root'),    # 0\n",
    "             ROOT.TFile(path + f'/p_200_{dist}_iter9.root'),    # 1\n",
    "             ROOT.TFile(path + f'/p_412_{dist}_iter9.root'),    # 2\n",
    "             ROOT.TFile(path + f'/p_505_{dist}_iter9.root'),    # 3\n",
    "             ROOT.TFile(path + f'/p_610_{dist}_iter8.root')]    # 4\n",
    "name = ['116 ns', '200 ns', '412 ns', '505 ns', '610 ns']\n",
    "color = [ROOT.kRed, ROOT.kGreen, ROOT.kBlack, ROOT.kBlue, ROOT.kViolet, ROOT.kYellow, ROOT.kCyan, ROOT.kOrange, ROOT.kSpring, ROOT.kAzure]"
   ]
  },
  {
   "cell_type": "code",
   "execution_count": null,
   "metadata": {},
   "outputs": [],
   "source": [
    "%jsroot on\n",
    "c.cd()\n",
    "# dedx = ROOT.TH1F('h', '', 100, 0., 3000.)\n",
    "trunc = 0.7\n",
    "\n",
    "hs = ROOT.THStack()\n",
    "dedx = []\n",
    "\n",
    "for file in [0, 1, 2]:\n",
    "    dedx.append(ROOT.TH1F('h', '', 100, 0., 3000.))\n",
    "    for entry in f[file].outtree:\n",
    "        dedx_track = []\n",
    "        for i in range(len(entry.charge)):\n",
    "            if entry.charge[i] <= 0:\n",
    "                continue\n",
    "            dedx_track.append(entry.charge[i])\n",
    "        dedx_track.sort()\n",
    "        av = 0\n",
    "        for i in range(int(trunc*len(dedx_track))):\n",
    "            av += dedx_track[i] / int(trunc*len(dedx_track))\n",
    "        if av != 0:\n",
    "            dedx[-1].Fill(av)\n",
    "    dedx[-1].SetTitle(name[file])\n",
    "    dedx[-1].SetLineColor(color[file])\n",
    "    dedx[-1].Fit('gaus')\n",
    "    print(dedx[-1].GetFunction('gaus').GetParameter(2) / dedx[-1].GetFunction('gaus').GetParameter(1) * 100)\n",
    "    hs.Add(dedx[-1])\n",
    "\n",
    "hs.Draw('nostack')\n",
    "hs.GetXaxis().SetTitle('dE/dx')\n",
    "c.Draw()        \n",
    "c.BuildLegend()"
   ]
  },
  {
   "cell_type": "markdown",
   "metadata": {},
   "source": [
    "## Charge spreading"
   ]
  },
  {
   "cell_type": "markdown",
   "metadata": {},
   "source": [
    "### 1D distro"
   ]
  },
  {
   "cell_type": "code",
   "execution_count": null,
   "metadata": {},
   "outputs": [],
   "source": [
    "cw3.Clear()\n",
    "cw3.Divide(3)\n",
    "\n",
    "h = []\n",
    "hs = []\n",
    "hs.append(ROOT.THStack('hs', ''))\n",
    "ls = [0, 1, 2, 3, 4]\n",
    "\n",
    "for i in ls:\n",
    "    h.append(ROOT.TH1F('h', '', 200, 0., 4000.))\n",
    "    t = file[i].outtree.Project('h', f'pad_charge[][0]', f'multiplicity > 0')\n",
    "    h[-1].Scale(1./h[-1].Integral())\n",
    "    h[-1].SetTitle(name[i])\n",
    "    h[-1].SetLineColor(color[i])\n",
    "    hs[-1].Add(h[-1])\n",
    "cw3.cd(1)\n",
    "hs[-1].Draw('histo nostack')\n",
    "hs[-1].GetXaxis().SetTitle('Q_{1}')\n",
    "hs[-1].SetTitle(f'Charge in the leding')\n",
    "ROOT.gPad.BuildLegend()\n",
    "\n",
    "hs.append(ROOT.THStack('hs', ''))\n",
    "for i in ls:\n",
    "    h.append(ROOT.TH1F('h', '', 200, 0., 0.7))\n",
    "    file[i].outtree.Project('h', f'pad_charge[][1] / pad_charge[][0]', f'multiplicity > 1')\n",
    "    h[-1].Scale(1./h[-1].Integral())\n",
    "    h[-1].SetTitle(name[i])\n",
    "    h[-1].SetLineColor(color[i])\n",
    "    hs[-1].Add(h[-1])\n",
    "cw3.cd(2)\n",
    "hs[-1].Draw('histo nostack')\n",
    "hs[-1].GetXaxis().SetTitle('Q_{2}/Q_{1}')\n",
    "hs[-1].SetTitle(f'Charge spreading')\n",
    "ROOT.gPad.BuildLegend()\n",
    "\n",
    "hs.append(ROOT.THStack('hs', ''))\n",
    "for i in ls:\n",
    "    h.append(ROOT.TH1F('h', '', 200, 0., 0.2))\n",
    "    file[i].outtree.Project('h', f'pad_charge[][2] / pad_charge[][0]', f'multiplicity > 2')\n",
    "    h[-1].Scale(1./h[-1].Integral())\n",
    "    h[-1].SetTitle(name[i])\n",
    "    h[-1].SetLineColor(color[i])\n",
    "    hs[-1].Add(h[-1])\n",
    "cw3.cd(3)\n",
    "hs[-1].Draw('histo nostack')\n",
    "hs[-1].GetXaxis().SetTitle('Q_{3}/Q_{1}')\n",
    "hs[-1].SetTitle(f'Charge spreading')\n",
    "ROOT.gPad.BuildLegend()\n",
    "\n",
    "cw3.Draw() "
   ]
  },
  {
   "cell_type": "markdown",
   "metadata": {},
   "source": [
    "### vs the column"
   ]
  },
  {
   "cell_type": "code",
   "execution_count": null,
   "metadata": {},
   "outputs": [],
   "source": [
    "cw3.Clear()\n",
    "cw3.Divide(3)\n",
    "\n",
    "file = [ROOT.TFile('~/LXPLUS/DESY_testbeam/test2.iter0.root')]\n",
    "file_id = 0\n",
    "\n",
    "h = []\n",
    "\n",
    "h.append(ROOT.TH2F('h', '', 36, 0., 36., 200, 0., 4000.))\n",
    "t = file[file_id].outtree.Project('h', f'pad_charge[][0]:pad_x[][]', f'multiplicity > 0')\n",
    "h[-1].Scale(1./h[-1].Integral())\n",
    "# h[-1].SetTitle(name[i])\n",
    "hs[-1].Add(h[-1])\n",
    "cw3.cd(1)\n",
    "h[-1].Draw('colz')\n",
    "h[-1].GetYaxis().SetTitle('Q_{1}')\n",
    "h[-1].GetXaxis().SetTitle('Column')\n",
    "h[-1].SetTitle(f'Charge in the leding')\n",
    "\n",
    "h.append(ROOT.TH2F('h', '', 36, 0., 36., 200, 0., 0.7))\n",
    "file[file_id].outtree.Project('h', f'pad_charge[][1] / pad_charge[][0]:pad_x[][]', f'multiplicity > 1')\n",
    "h[-1].Scale(1./h[-1].Integral())\n",
    "# h[-1].SetTitle(name[i])\n",
    "cw3.cd(2)\n",
    "h[-1].Draw('colz')\n",
    "h[-1].GetYaxis().SetTitle('Q_{2}/Q_{1}')\n",
    "h[-1].GetXaxis().SetTitle('Column')\n",
    "h[-1].SetTitle(f'Charge spreading')\n",
    "\n",
    "h.append(ROOT.TH2F('h', '', 36, 0., 36., 200, 0., 0.2))\n",
    "file[file_id].outtree.Project('h', f'pad_charge[][2] / pad_charge[][0]:pad_x[][]', f'multiplicity > 2')\n",
    "h[-1].Scale(1./h[-1].Integral())\n",
    "# h[-1].SetTitle(name[i])\n",
    "cw3.cd(3)\n",
    "h[-1].Draw('colz')\n",
    "h[-1].GetYaxis().SetTitle('Q_{3}/Q_{1}')\n",
    "h[-1].GetXaxis().SetTitle('Column')\n",
    "h[-1].SetTitle(f'Charge spreading')\n",
    "\n",
    "cw3.Draw() "
   ]
  },
  {
   "cell_type": "code",
   "execution_count": null,
   "metadata": {},
   "outputs": [],
   "source": [
    "cw3.Clear()\n",
    "cw3.Divide(3)\n",
    "\n",
    "# file = [ROOT.TFile('~/LXPLUS/DESY_testbeam/test2.iter0.root')]\n",
    "file_id = 2\n",
    "\n",
    "h = []\n",
    "\n",
    "h.append(ROOT.TH2F('h', '', 36, 0., 36., 200, 0., 4000.))\n",
    "t = file[file_id].outtree.Project('h', f'pad_charge[][0]:pad_x[][]', f'multiplicity > 0')\n",
    "h[-1].Scale(1./h[-1].Integral())\n",
    "# h[-1].SetTitle(name[i])\n",
    "hs[-1].Add(h[-1])\n",
    "cw3.cd(1)\n",
    "h[-1].Draw('colz')\n",
    "h[-1].GetYaxis().SetTitle('Q_{1}')\n",
    "h[-1].GetXaxis().SetTitle('Column')\n",
    "h[-1].SetTitle(f'Charge in the leding')\n",
    "\n",
    "h.append(ROOT.TH2F('h', '', 36, 0., 36., 120, -20., 100))\n",
    "file[file_id].outtree.Project('h', f'time[][1] - time[][0]:pad_x[][]', f'multiplicity > 1')\n",
    "h[-1].Scale(1./h[-1].Integral())\n",
    "# h[-1].SetTitle(name[i])\n",
    "cw3.cd(2)\n",
    "h[-1].Draw('colz')\n",
    "h[-1].GetYaxis().SetTitle('T_{2} - T_{1}')\n",
    "h[-1].GetXaxis().SetTitle('Column')\n",
    "h[-1].SetTitle(f'Charge spreading')\n",
    "\n",
    "h.append(ROOT.TH2F('h', '', 36, 0., 36., 120, -20., 100))\n",
    "file[file_id].outtree.Project('h', f'time[][2] - time[][0]:pad_x[][]', f'multiplicity > 2')\n",
    "h[-1].Scale(1./h[-1].Integral())\n",
    "# h[-1].SetTitle(name[i])\n",
    "cw3.cd(3)\n",
    "h[-1].Draw('colz')\n",
    "h[-1].GetYaxis().SetTitle('T_{3} - T_{1}')\n",
    "h[-1].GetXaxis().SetTitle('Column')\n",
    "h[-1].SetTitle(f'Charge spreading')\n",
    "\n",
    "cw3.Draw() "
   ]
  },
  {
   "cell_type": "markdown",
   "metadata": {},
   "source": [
    "# dE/dx"
   ]
  },
  {
   "cell_type": "markdown",
   "metadata": {},
   "source": [
    "### Charge per column"
   ]
  },
  {
   "cell_type": "code",
   "execution_count": null,
   "metadata": {},
   "outputs": [],
   "source": [
    "%jsroot on\n",
    "cw3.Clear()\n",
    "cw3.Divide(3)\n",
    "cw3.cd(1)\n",
    "file = ROOT.TFile('~/LXPLUS/DESY_testbeam/test.iter0.root')\n",
    "h = ROOT.TH2F('h', '', 36, 0., 36., 200, 0., 6000.)\n",
    "file.outtree.Project('h', 'charge[]:pad_x[][0]', '')\n",
    "h.Draw('colz')\n",
    "\n",
    "cw3.cd(2)\n",
    "h2 = ROOT.TH2F('h2', '', 36, 0., 36., 10, 0., 10.)\n",
    "file.outtree.Project('h2', 'multiplicity[]:pad_x[][0]', '')\n",
    "h2.Draw('colz')\n",
    "\n",
    "cw3.cd(3)\n",
    "h3 = ROOT.TH1F('h2', '', 36, 0., 36.)\n",
    "file.outtree.Project('h2', 'pad_x[][0]', '')\n",
    "h3.Draw('')\n",
    "\n",
    "cw3.Draw()"
   ]
  },
  {
   "cell_type": "code",
   "execution_count": null,
   "metadata": {},
   "outputs": [],
   "source": []
  }
 ],
 "metadata": {
  "kernelspec": {
   "display_name": "Python 3",
   "language": "python",
   "name": "python3"
  },
  "language_info": {
   "codemirror_mode": {
    "name": "ipython",
    "version": 3
   },
   "file_extension": ".py",
   "mimetype": "text/x-python",
   "name": "python",
   "nbconvert_exporter": "python",
   "pygments_lexer": "ipython3",
   "version": "3.9.1"
  }
 },
 "nbformat": 4,
 "nbformat_minor": 4
}
